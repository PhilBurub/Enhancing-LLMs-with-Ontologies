{
 "cells": [
  {
   "cell_type": "code",
   "execution_count": 1,
   "metadata": {
    "id": "33w31dnxRBUD"
   },
   "outputs": [],
   "source": [
    "import chromadb\n",
    "from chromadb.utils.embedding_functions import SentenceTransformerEmbeddingFunction\n",
    "from pathlib import Path\n",
    "from tqdm import tqdm\n",
    "from itertools import islice\n",
    "\n",
    "def batched(iterable, n):\n",
    "    if n < 1:\n",
    "        raise ValueError('n must be >= 1')\n",
    "    it = iter(iterable)\n",
    "    while (batch := list(islice(it, n))):\n",
    "        yield batch"
   ]
  },
  {
   "cell_type": "markdown",
   "metadata": {
    "id": "aspi7ZUPToUQ"
   },
   "source": [
    "Implemented models:\n",
    "https://www.sbert.net/docs/pretrained_models.html"
   ]
  },
  {
   "cell_type": "code",
   "execution_count": 2,
   "metadata": {
    "id": "5Vb1LaQzQzwH"
   },
   "outputs": [],
   "source": [
    "client = chromadb.PersistentClient(path=\"C:/Users/Vito/Desktop/NLP project/vectors_corpora/\")\n",
    "collection = client.create_collection(name=\"ontology\",\n",
    "                                      #embedding_function=SentenceTransformerEmbeddingFunction(model_name=\"all-MiniLM-L6-v2\"))"
   ]
  },
  {
   "cell_type": "code",
   "execution_count": 3,
   "metadata": {
    "id": "U0Abrd7Vjsry"
   },
   "outputs": [],
   "source": [
    "small_ont = Path('upper_ontology_classes.txt').read_text(encoding='utf-8').split('\\n')"
   ]
  },
  {
   "cell_type": "code",
   "execution_count": 4,
   "metadata": {
    "colab": {
     "base_uri": "https://localhost:8080/"
    },
    "id": "lpLzsuGrR38D",
    "outputId": "87df080a-34b8-46d0-827e-d7fd5c3af27f"
   },
   "outputs": [],
   "source": [
    "collection.add(\n",
    "    documents=small_ont,\n",
    "    ids=[str(i) for i in range(len(small_ont))]\n",
    ")"
   ]
  },
  {
   "cell_type": "code",
   "execution_count": 5,
   "metadata": {
    "colab": {
     "base_uri": "https://localhost:8080/"
    },
    "id": "uHAxqpvPSb3X",
    "outputId": "c99635e1-9548-48b5-d45c-4ba121541bff"
   },
   "outputs": [
    {
     "name": "stdout",
     "output_type": "stream",
     "text": [
      "CPU times: total: 172 ms\n",
      "Wall time: 53.2 ms\n"
     ]
    },
    {
     "data": {
      "text/plain": [
       "{'ids': [['82',\n",
       "   '219',\n",
       "   '636',\n",
       "   '727',\n",
       "   '635',\n",
       "   '733',\n",
       "   '634',\n",
       "   '535',\n",
       "   '666',\n",
       "   '214']],\n",
       " 'distances': [[1.4019567966461182,\n",
       "   1.5062384605407715,\n",
       "   1.5099586248397827,\n",
       "   1.5193766355514526,\n",
       "   1.5468380451202393,\n",
       "   1.5508071184158325,\n",
       "   1.5537705421447754,\n",
       "   1.5596883296966553,\n",
       "   1.575263500213623,\n",
       "   1.576554775238037]],\n",
       " 'metadatas': [[None, None, None, None, None, None, None, None, None, None]],\n",
       " 'embeddings': None,\n",
       " 'documents': [['Deity is a subclass of Agent',\n",
       "   'Church is a subclass of ReligiousBuilding',\n",
       "   'Pope is a subclass of Cleric',\n",
       "   'TheologicalConcept is a subclass of TopicalConcept',\n",
       "   'ChristianPatriarch is a subclass of Cleric',\n",
       "   'ChristianDoctrine is a subclass of TheologicalConcept',\n",
       "   'ChristianBishop is a subclass of Cleric',\n",
       "   'Religious is a subclass of Person',\n",
       "   'Rebbe is a subclass of Religious',\n",
       "   'ReligiousBuilding is a subclass of Building']],\n",
       " 'uris': None,\n",
       " 'data': None}"
      ]
     },
     "execution_count": 5,
     "metadata": {},
     "output_type": "execute_result"
    }
   ],
   "source": [
    "%%time\n",
    "collection.query(query_texts=['Question: Who said \"In God we trust\"?\\nAnswer: Ch. Bronte'])"
   ]
  },
  {
   "cell_type": "code",
   "execution_count": 7,
   "metadata": {},
   "outputs": [
    {
     "data": {
      "text/plain": [
       "{'title': 'Collection',\n",
       " 'type': 'object',\n",
       " 'properties': {'name': {'title': 'Name', 'type': 'string'},\n",
       "  'id': {'title': 'Id', 'type': 'string', 'format': 'uuid'},\n",
       "  'metadata': {'title': 'Metadata', 'type': 'object'},\n",
       "  'tenant': {'title': 'Tenant', 'type': 'string'},\n",
       "  'database': {'title': 'Database', 'type': 'string'}},\n",
       " 'required': ['name', 'id']}"
      ]
     },
     "execution_count": 7,
     "metadata": {},
     "output_type": "execute_result"
    }
   ],
   "source": [
    "collection."
   ]
  },
  {
   "cell_type": "code",
   "execution_count": 9,
   "metadata": {},
   "outputs": [
    {
     "data": {
      "text/plain": [
       "1"
      ]
     },
     "execution_count": 9,
     "metadata": {},
     "output_type": "execute_result"
    }
   ],
   "source": [
    "client.get_collection()"
   ]
  },
  {
   "cell_type": "code",
   "execution_count": null,
   "metadata": {},
   "outputs": [],
   "source": []
  }
 ],
 "metadata": {
  "colab": {
   "provenance": []
  },
  "kernelspec": {
   "display_name": "Python 3 (ipykernel)",
   "language": "python",
   "name": "python3"
  },
  "language_info": {
   "codemirror_mode": {
    "name": "ipython",
    "version": 3
   },
   "file_extension": ".py",
   "mimetype": "text/x-python",
   "name": "python",
   "nbconvert_exporter": "python",
   "pygments_lexer": "ipython3",
   "version": "3.11.5"
  }
 },
 "nbformat": 4,
 "nbformat_minor": 1
}
