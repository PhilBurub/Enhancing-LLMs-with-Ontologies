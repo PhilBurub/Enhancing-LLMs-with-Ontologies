{
 "cells": [
  {
   "cell_type": "code",
   "execution_count": 1,
   "id": "79f4ee0c",
   "metadata": {},
   "outputs": [],
   "source": [
    "import pip_system_certs\n",
    "import ssl\n",
    "import json\n",
    "import requests\n",
    "from auth import token\n",
    "import re\n",
    "from ontology_retrieval.database import VectDB"
   ]
  },
  {
   "cell_type": "code",
   "execution_count": 2,
   "id": "5f0371ae",
   "metadata": {},
   "outputs": [],
   "source": [
    "try:\n",
    "    _create_unverified_https_context = ssl._create_unverified_context\n",
    "except AttributeError:\n",
    "    pass\n",
    "else:\n",
    "    ssl._create_default_https_context = _create_unverified_https_context"
   ]
  },
  {
   "cell_type": "code",
   "execution_count": 3,
   "id": "e45ae9c7",
   "metadata": {},
   "outputs": [],
   "source": [
    "class Gigachat:\n",
    "    def __init__(self):\n",
    "        self.gettoken()\n",
    "        \n",
    "    def gettoken(self):\n",
    "        url = \"https://ngw.devices.sberbank.ru:9443/api/v2/oauth\"\n",
    "\n",
    "        payload='scope=GIGACHAT_API_PERS'\n",
    "        headers = {\n",
    "          'Content-Type': 'application/x-www-form-urlencoded',\n",
    "          'Accept': 'application/json',\n",
    "          'RqUID': '857236fb-970f-4262-93e8-bf3c0b66d18e',\n",
    "          'Authorization': token\n",
    "        }\n",
    "\n",
    "        response = requests.request(\"POST\", url, headers=headers, data=payload)\n",
    "        self.token = response.json()['access_token']\n",
    "    \n",
    "    def generate(self, prompt):\n",
    "        url = \"https://gigachat.devices.sberbank.ru/api/v1/chat/completions\"\n",
    "\n",
    "        payload = json.dumps({\n",
    "          \"model\": \"GigaChat\",\n",
    "          \"messages\": [\n",
    "            {\n",
    "              \"role\": \"user\",\n",
    "              \"content\": prompt\n",
    "            }\n",
    "          ],\n",
    "          \"temperature\": 1,\n",
    "          \"top_p\": 0.1,\n",
    "          \"n\": 1,\n",
    "          \"stream\": False,\n",
    "          \"max_tokens\": 512,\n",
    "          \"repetition_penalty\": 1,\n",
    "          \"update_interval\": 0\n",
    "        })\n",
    "        headers = {\n",
    "          'Content-Type': 'application/json',\n",
    "          'Accept': 'application/json',\n",
    "          'Authorization': f'Bearer {self.token}'\n",
    "        }\n",
    "\n",
    "        response = requests.request(\"POST\", url, headers=headers, data=payload)\n",
    "        \n",
    "        if response.status_code != 200:\n",
    "            self.gettoken()\n",
    "            return self.generate(prompt)\n",
    "        return response.json()['choices'][0]['message']['content']"
   ]
  },
  {
   "cell_type": "code",
   "execution_count": 4,
   "id": "7feaeb0b",
   "metadata": {},
   "outputs": [],
   "source": [
    "gigachat = Gigachat()"
   ]
  },
  {
   "cell_type": "code",
   "execution_count": 5,
   "id": "6b9e00f5",
   "metadata": {},
   "outputs": [
    {
     "data": {
      "text/plain": [
       "'Всё хорошо, спасибо за интерес. Как вы поживаете?'"
      ]
     },
     "execution_count": 5,
     "metadata": {},
     "output_type": "execute_result"
    }
   ],
   "source": [
    "gigachat.generate('Как дела?')"
   ]
  },
  {
   "cell_type": "markdown",
   "id": "559be179",
   "metadata": {},
   "source": [
    "# Prompting"
   ]
  },
  {
   "cell_type": "code",
   "execution_count": 6,
   "id": "e969b1e3",
   "metadata": {},
   "outputs": [],
   "source": [
    "def top_one_llm(question_text, gigachat):\n",
    "    prompt = 'You need to answer the question below only with the name of person, location, chatacter etc. ' \\\n",
    "                'Do not give any additional information, facts and thoughts.\\n' \\\n",
    "                'Question: ' + question_text + 'Your answer:'\n",
    "    return gigachat.generate(prompt)"
   ]
  },
  {
   "cell_type": "code",
   "execution_count": 8,
   "id": "fd506c47",
   "metadata": {},
   "outputs": [
    {
     "data": {
      "text/plain": [
       "'Margaret Mitchell'"
      ]
     },
     "execution_count": 8,
     "metadata": {},
     "output_type": "execute_result"
    }
   ],
   "source": [
    "top_one_llm(\"Who wrote 'Gone with The Wind?'\", gigachat)"
   ]
  },
  {
   "cell_type": "code",
   "execution_count": 20,
   "id": "2cec24c0",
   "metadata": {},
   "outputs": [],
   "source": [
    "def options_llm(question_text, n_vars, gigachat):\n",
    "    prompt = f'You need to answer the question below only with {n_vars} names of people, locations, chatacters etc. ' \\\n",
    "            'Do not give any additional information, facts and thoughts. ' \\\n",
    "            f'Generate {n_vars} most likely options, each one starting with newline.\\n' \\\n",
    "            'Question: ' + question_text + '\\nYour answers:'\n",
    "    return gigachat.generate(prompt).split('\\n\\n')"
   ]
  },
  {
   "cell_type": "code",
   "execution_count": 23,
   "id": "4faf511f",
   "metadata": {},
   "outputs": [
    {
     "data": {
      "text/plain": [
       "['George Washington', 'Thomas Jefferson', 'Benjamin Franklin']"
      ]
     },
     "execution_count": 23,
     "metadata": {},
     "output_type": "execute_result"
    }
   ],
   "source": [
    "options_llm(\"Who said 'In God we trust'?\", 3, gigachat)"
   ]
  },
  {
   "cell_type": "code",
   "execution_count": 31,
   "id": "4482af17",
   "metadata": {},
   "outputs": [],
   "source": [
    "def get_entities(question_text, gigachat):\n",
    "    prompt = 'You need to find all denominations of people, locations, characters, buildings, movies etc. '\\\n",
    "                'from the question below. ' \\\n",
    "                'Do not give any additional information, facts and thoughts. Each one should be on a separate line.\\n' \\\n",
    "                \"Question: Who starred in 'Bride Wars' and married Anne Hathaway?\\n\" \\\n",
    "                \"Answer: Bride Wars\\nAnne Hathaway\\n\" \\\n",
    "                \"Question: \" + question_text + '\\nAnswer:'\n",
    "    return gigachat.generate(prompt).split('\\n\\n')"
   ]
  },
  {
   "cell_type": "code",
   "execution_count": 32,
   "id": "b9251fe1",
   "metadata": {},
   "outputs": [
    {
     "data": {
      "text/plain": [
       "['Don Quijote']"
      ]
     },
     "execution_count": 32,
     "metadata": {},
     "output_type": "execute_result"
    }
   ],
   "source": [
    "get_entities(\"Who wrote 'Don Quijote' for the Bolshoi Theatre?\", gigachat)"
   ]
  },
  {
   "cell_type": "code",
   "execution_count": 33,
   "id": "cefe43d1",
   "metadata": {},
   "outputs": [],
   "source": [
    "def relation_extraction(answer_candidate, entity, gigachat):\n",
    "    prompt = f'Explain how {entity} and {answer_candidate} are related in one sentence.'\n",
    "    return gigachat.generate(prompt)"
   ]
  },
  {
   "cell_type": "code",
   "execution_count": 34,
   "id": "a75bbe8a",
   "metadata": {},
   "outputs": [
    {
     "data": {
      "text/plain": [
       "'India and England are related historically as the former was once a British colony and the two countries share a rich cultural and linguistic heritage.'"
      ]
     },
     "execution_count": 34,
     "metadata": {},
     "output_type": "execute_result"
    }
   ],
   "source": [
    "relation_extraction('England', 'India', gigachat)"
   ]
  },
  {
   "cell_type": "markdown",
   "id": "66354380",
   "metadata": {},
   "source": [
    "# Pipelines"
   ]
  },
  {
   "cell_type": "code",
   "execution_count": 38,
   "id": "52cca555",
   "metadata": {},
   "outputs": [],
   "source": [
    "database = VectDB()"
   ]
  },
  {
   "cell_type": "code",
   "execution_count": 44,
   "id": "97eb0a91",
   "metadata": {},
   "outputs": [],
   "source": [
    "def main_pipeline(question, gigachat, n_candidates, database, n_ontology_instances):\n",
    "    candidates = options_llm(question, n_candidates, gigachat)\n",
    "    ontological_info = {'inner': {}, 'outer': {}}\n",
    "    entities = get_entities(question, gigachat)\n",
    "    for candidate in candidates:\n",
    "        ontological_info['inner'][candidate] = '\\n'.join([relation_extraction(candidate, entity, gigachat) for entity in entities])\n",
    "        ontological_info['outer'][candidate] = '\\n'.join(database.query('Question: ' + question + '\\nAnswer: ' + candidate, \n",
    "                                                              n_ontology_instances)['documents'][0])\n",
    "    return ontological_info, candidates[0]"
   ]
  },
  {
   "cell_type": "code",
   "execution_count": 45,
   "id": "c91f8f58",
   "metadata": {},
   "outputs": [
    {
     "data": {
      "text/plain": [
       "({'inner': {'George Washington': 'The United States and George Washington are related because George Washington was the first President of the United States, serving from 1789 to 1797.',\n",
       "   'Thomas Jefferson': \"Thomas Jefferson, the third President of the United States, played a significant role in shaping the nation's founding documents and values.\",\n",
       "   'Benjamin Franklin': 'Benjamin Franklin was a prominent American Founding Father and statesman who played a significant role in the founding of the United States.'},\n",
       "  'outer': {'George Washington': 'President is a subclass of Politician\\nDeity is a subclass of Agent\\nAmbassador is a subclass of Politician\\nReligiousBuilding is a subclass of Building\\nChurch is a subclass of ReligiousBuilding\\nChristianPatriarch is a subclass of Cleric\\nChristianDoctrine is a subclass of TheologicalConcept\\nTemple is a subclass of ReligiousBuilding\\nChief is a subclass of Politician\\nReligious is a subclass of Person',\n",
       "   'Thomas Jefferson': 'Deity is a subclass of Agent\\nChurch is a subclass of ReligiousBuilding\\nTemple is a subclass of ReligiousBuilding\\nReligiousBuilding is a subclass of Building\\nRebbe is a subclass of Religious\\nReligious is a subclass of Person\\nPope is a subclass of Cleric\\nAmbassador is a subclass of Politician\\nChristianDoctrine is a subclass of TheologicalConcept\\nAristocrat is a subclass of Person',\n",
       "   'Benjamin Franklin': 'Deity is a subclass of Agent\\nChurch is a subclass of ReligiousBuilding\\nChristianDoctrine is a subclass of TheologicalConcept\\nRebbe is a subclass of Religious\\nTheologicalConcept is a subclass of TopicalConcept\\nTemple is a subclass of ReligiousBuilding\\nAristocrat is a subclass of Person\\nReligious is a subclass of Person\\nPope is a subclass of Cleric\\nReligiousBuilding is a subclass of Building'}},\n",
       " 'George Washington')"
      ]
     },
     "execution_count": 45,
     "metadata": {},
     "output_type": "execute_result"
    }
   ],
   "source": [
    "main_pipeline(\"Who said 'In God we trust'?\", gigachat, 3, database, 10)"
   ]
  },
  {
   "cell_type": "code",
   "execution_count": null,
   "id": "56b12524",
   "metadata": {},
   "outputs": [],
   "source": []
  }
 ],
 "metadata": {
  "kernelspec": {
   "display_name": "Python 3 (ipykernel)",
   "language": "python",
   "name": "python3"
  },
  "language_info": {
   "codemirror_mode": {
    "name": "ipython",
    "version": 3
   },
   "file_extension": ".py",
   "mimetype": "text/x-python",
   "name": "python",
   "nbconvert_exporter": "python",
   "pygments_lexer": "ipython3",
   "version": "3.11.5"
  }
 },
 "nbformat": 4,
 "nbformat_minor": 5
}
